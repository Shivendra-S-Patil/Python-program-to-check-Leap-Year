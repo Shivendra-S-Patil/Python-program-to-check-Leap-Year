{
 "cells": [
  {
   "cell_type": "code",
   "execution_count": 5,
   "id": "9cdd97ca",
   "metadata": {},
   "outputs": [
    {
     "name": "stdout",
     "output_type": "stream",
     "text": [
      "Enter the year: 2000\n",
      "2000 is leap year\n"
     ]
    }
   ],
   "source": [
    "year = int(input(\"Enter the year: \"))\n",
    "#This line prompts the user to input a year, converts the input into an integer using int(), and assigns it to the variable year.\n",
    "\n",
    "if (year % 400 == 0) and (year % 100 == 0): # year is evenly divisible by 400 and also divisible by 100 without leaving a remainder.\n",
    "    print(year, \"is leap year\") #If the condition in line 4 is true, this line will print that the input year is a leap year.\n",
    "\n",
    "elif (year % 4 == 0) and (year % 100 != 0): #ear is evenly divisible by 4 (without remainder) but not evenly divisible by 100 (with remainder).\n",
    "    print(year, \"is leap year\") #If the condition in line 7 is true, this line will also print that the input year is a leap year.\n",
    "    \n",
    "else: #This else statement executes if none of the previous conditions are met\n",
    "    print(year, \"is not leap year\") #If none of the leap year conditions are met, this line will print that the input year is not a leap year."
   ]
  },
  {
   "cell_type": "code",
   "execution_count": null,
   "id": "a0065985",
   "metadata": {},
   "outputs": [],
   "source": []
  }
 ],
 "metadata": {
  "kernelspec": {
   "display_name": "Python 3 (ipykernel)",
   "language": "python",
   "name": "python3"
  },
  "language_info": {
   "codemirror_mode": {
    "name": "ipython",
    "version": 3
   },
   "file_extension": ".py",
   "mimetype": "text/x-python",
   "name": "python",
   "nbconvert_exporter": "python",
   "pygments_lexer": "ipython3",
   "version": "3.9.13"
  }
 },
 "nbformat": 4,
 "nbformat_minor": 5
}
